{
  "nbformat": 4,
  "nbformat_minor": 0,
  "metadata": {
    "colab": {
      "name": "COVID.ipynb",
      "provenance": [],
      "collapsed_sections": [],
      "authorship_tag": "ABX9TyOqnFvpkeDJqgFRivRq6NQc",
      "include_colab_link": true
    },
    "kernelspec": {
      "name": "python3",
      "display_name": "Python 3"
    },
    "language_info": {
      "name": "python"
    }
  },
  "cells": [
    {
      "cell_type": "markdown",
      "metadata": {
        "id": "view-in-github",
        "colab_type": "text"
      },
      "source": [
        "<a href=\"https://colab.research.google.com/github/Buortau/Python-Projects/blob/main/COVID.ipynb\" target=\"_parent\"><img src=\"https://colab.research.google.com/assets/colab-badge.svg\" alt=\"Open In Colab\"/></a>"
      ]
    },
    {
      "cell_type": "markdown",
      "metadata": {
        "id": "HBMcdiBEh3qY"
      },
      "source": [
        "# COVID-19 Vaccination Analysis\n",
        "\n",
        "\n",
        "---\n",
        "\n",
        "\n",
        "[Kaggle Dataset](https://www.kaggle.com/gpreda/covid-world-vaccination-progress)\n",
        "\n",
        "This project is an analysis of the progress of the worldwide COVID-19 vaccination broken down by country and by vaccine.  The purpose of this study is to analyze each of the following: how much of each vaccine is used by each country, which vaccines are most widely used around the world, and which countries have the highest levels of vaccinations per day.  The numeric data used is centered around the number of total vaccinations per vaccine and per country at the given date.  This can be widely used by the COVID-19 vaccine manufacturers so that they can better determine the demand of their vaccine.  The data can also be used by government officials of various countries so that they can view which vaccines are most popular.  Government officials can also use this data to visualize which countries are most vaccinated and which countries are least vaccinated.  Finally, government officials will be able to track the progress of their own country's vaccination rate."
      ]
    },
    {
      "cell_type": "code",
      "metadata": {
        "colab": {
          "base_uri": "https://localhost:8080/"
        },
        "id": "i_B4R5UmfMup",
        "outputId": "55de7b31-03df-4c70-8156-272902d8ec46"
      },
      "source": [
        "from google.colab import drive\n",
        "drive.mount('/content/gdrive')"
      ],
      "execution_count": null,
      "outputs": [
        {
          "output_type": "stream",
          "text": [
            "Drive already mounted at /content/gdrive; to attempt to forcibly remount, call drive.mount(\"/content/gdrive\", force_remount=True).\n"
          ],
          "name": "stdout"
        }
      ]
    },
    {
      "cell_type": "code",
      "metadata": {
        "id": "yOoTmFlGYRgD"
      },
      "source": [
        "import pandas as pd\n",
        "import numpy as np\n",
        "import matplotlib.pyplot as plt\n",
        "import seaborn as sns\n",
        "%matplotlib inline\n",
        "from scipy.stats import ttest_ind\n",
        "from scipy.stats.stats import pearsonr"
      ],
      "execution_count": null,
      "outputs": []
    },
    {
      "cell_type": "code",
      "metadata": {
        "colab": {
          "base_uri": "https://localhost:8080/",
          "height": 419
        },
        "id": "gzjbtInvcj2U",
        "outputId": "1aec9b78-95ad-4abe-8f5a-d47153e6fe30"
      },
      "source": [
        "covid_mfg_df = pd.read_csv('/content/gdrive/My Drive/Colab Notebooks/covid.csv')\n",
        "covid_mfg_df"
      ],
      "execution_count": null,
      "outputs": [
        {
          "output_type": "execute_result",
          "data": {
            "text/html": [
              "<div>\n",
              "<style scoped>\n",
              "    .dataframe tbody tr th:only-of-type {\n",
              "        vertical-align: middle;\n",
              "    }\n",
              "\n",
              "    .dataframe tbody tr th {\n",
              "        vertical-align: top;\n",
              "    }\n",
              "\n",
              "    .dataframe thead th {\n",
              "        text-align: right;\n",
              "    }\n",
              "</style>\n",
              "<table border=\"1\" class=\"dataframe\">\n",
              "  <thead>\n",
              "    <tr style=\"text-align: right;\">\n",
              "      <th></th>\n",
              "      <th>location</th>\n",
              "      <th>date</th>\n",
              "      <th>vaccine</th>\n",
              "      <th>total_vaccinations</th>\n",
              "    </tr>\n",
              "  </thead>\n",
              "  <tbody>\n",
              "    <tr>\n",
              "      <th>0</th>\n",
              "      <td>Austria</td>\n",
              "      <td>2021-01-08</td>\n",
              "      <td>Johnson&amp;Johnson</td>\n",
              "      <td>0</td>\n",
              "    </tr>\n",
              "    <tr>\n",
              "      <th>1</th>\n",
              "      <td>Austria</td>\n",
              "      <td>2021-01-08</td>\n",
              "      <td>Moderna</td>\n",
              "      <td>0</td>\n",
              "    </tr>\n",
              "    <tr>\n",
              "      <th>2</th>\n",
              "      <td>Austria</td>\n",
              "      <td>2021-01-08</td>\n",
              "      <td>Oxford/AstraZeneca</td>\n",
              "      <td>0</td>\n",
              "    </tr>\n",
              "    <tr>\n",
              "      <th>3</th>\n",
              "      <td>Austria</td>\n",
              "      <td>2021-01-08</td>\n",
              "      <td>Pfizer/BioNTech</td>\n",
              "      <td>30999</td>\n",
              "    </tr>\n",
              "    <tr>\n",
              "      <th>4</th>\n",
              "      <td>Austria</td>\n",
              "      <td>2021-01-15</td>\n",
              "      <td>Johnson&amp;Johnson</td>\n",
              "      <td>0</td>\n",
              "    </tr>\n",
              "    <tr>\n",
              "      <th>...</th>\n",
              "      <td>...</td>\n",
              "      <td>...</td>\n",
              "      <td>...</td>\n",
              "      <td>...</td>\n",
              "    </tr>\n",
              "    <tr>\n",
              "      <th>10174</th>\n",
              "      <td>Uruguay</td>\n",
              "      <td>2021-07-30</td>\n",
              "      <td>Pfizer/BioNTech</td>\n",
              "      <td>1481460</td>\n",
              "    </tr>\n",
              "    <tr>\n",
              "      <th>10175</th>\n",
              "      <td>Uruguay</td>\n",
              "      <td>2021-07-30</td>\n",
              "      <td>Sinovac</td>\n",
              "      <td>3217656</td>\n",
              "    </tr>\n",
              "    <tr>\n",
              "      <th>10176</th>\n",
              "      <td>Uruguay</td>\n",
              "      <td>2021-07-31</td>\n",
              "      <td>Oxford/AstraZeneca</td>\n",
              "      <td>83562</td>\n",
              "    </tr>\n",
              "    <tr>\n",
              "      <th>10177</th>\n",
              "      <td>Uruguay</td>\n",
              "      <td>2021-07-31</td>\n",
              "      <td>Pfizer/BioNTech</td>\n",
              "      <td>1485745</td>\n",
              "    </tr>\n",
              "    <tr>\n",
              "      <th>10178</th>\n",
              "      <td>Uruguay</td>\n",
              "      <td>2021-07-31</td>\n",
              "      <td>Sinovac</td>\n",
              "      <td>3218801</td>\n",
              "    </tr>\n",
              "  </tbody>\n",
              "</table>\n",
              "<p>10179 rows × 4 columns</p>\n",
              "</div>"
            ],
            "text/plain": [
              "      location        date             vaccine  total_vaccinations\n",
              "0      Austria  2021-01-08     Johnson&Johnson                   0\n",
              "1      Austria  2021-01-08             Moderna                   0\n",
              "2      Austria  2021-01-08  Oxford/AstraZeneca                   0\n",
              "3      Austria  2021-01-08     Pfizer/BioNTech               30999\n",
              "4      Austria  2021-01-15     Johnson&Johnson                   0\n",
              "...        ...         ...                 ...                 ...\n",
              "10174  Uruguay  2021-07-30     Pfizer/BioNTech             1481460\n",
              "10175  Uruguay  2021-07-30             Sinovac             3217656\n",
              "10176  Uruguay  2021-07-31  Oxford/AstraZeneca               83562\n",
              "10177  Uruguay  2021-07-31     Pfizer/BioNTech             1485745\n",
              "10178  Uruguay  2021-07-31             Sinovac             3218801\n",
              "\n",
              "[10179 rows x 4 columns]"
            ]
          },
          "metadata": {},
          "execution_count": 5
        }
      ]
    },
    {
      "cell_type": "markdown",
      "metadata": {
        "id": "WTX8KYrkZofn"
      },
      "source": [
        "The table above displays the original dataset.  Each row of the dataset contains the following information: the country that received vaccines, the date that the data was collected, the vaccine manufacturer, and the total number of vaccinations per vaccine for the corresponding country at the given date."
      ]
    },
    {
      "cell_type": "code",
      "metadata": {
        "colab": {
          "base_uri": "https://localhost:8080/"
        },
        "id": "avxID7_apdJN",
        "outputId": "2a0719ac-f2c2-4ccf-85aa-40d8a366bbd0"
      },
      "source": [
        "country_sorted = covid_mfg_df.groupby(['location'])['total_vaccinations'].sum().sort_values(ascending=True)\n",
        "country_sorted.index"
      ],
      "execution_count": null,
      "outputs": [
        {
          "output_type": "execute_result",
          "data": {
            "text/plain": [
              "Index(['Liechtenstein', 'Luxembourg', 'Malta', 'Cyprus', 'Estonia', 'Slovenia',\n",
              "       'Bulgaria', 'Iceland', 'Croatia', 'Slovakia', 'Ireland', 'Finland',\n",
              "       'Denmark', 'Latvia', 'Austria', 'Sweden', 'Portugal', 'Belgium',\n",
              "       'Hungary', 'Netherlands', 'Lithuania', 'Uruguay', 'Poland', 'Spain',\n",
              "       'Switzerland', 'Czechia', 'Romania', 'Chile', 'Japan', 'Italy',\n",
              "       'France', 'Germany', 'United States'],\n",
              "      dtype='object', name='location')"
            ]
          },
          "metadata": {},
          "execution_count": 7
        }
      ]
    },
    {
      "cell_type": "code",
      "metadata": {
        "colab": {
          "base_uri": "https://localhost:8080/",
          "height": 340
        },
        "id": "O4pOlAoIgFVy",
        "outputId": "8547acc1-01fc-4b39-abc1-2a81df05b135"
      },
      "source": [
        "stacked_bar = covid_mfg_df.groupby(['location', 'vaccine'])['total_vaccinations'].sum().unstack().fillna(0)\n",
        "stacked_bar = stacked_bar.reindex(index=country_sorted.index).tail(10)\n",
        "SBChart=stacked_bar.plot(kind='bar', rot=45, stacked=True)\n",
        "plt.title('Top 10 Countries By Vaccination Counts')\n",
        "plt.rcParams[\"figure.figsize\"] = (8, 6)"
      ],
      "execution_count": null,
      "outputs": [
        {
          "output_type": "display_data",
          "data": {
            "image/png": "[encoded data removed]",
            "text/plain": [
              "<Figure size 432x288 with 1 Axes>"
            ]
          },
          "metadata": {
            "needs_background": "light"
          }
        }
      ]
    },
    {
      "cell_type": "code",
      "metadata": {
        "colab": {
          "base_uri": "https://localhost:8080/",
          "height": 449
        },
        "id": "pqwWd6ntuxlB",
        "outputId": "b067cef2-afce-4e47-e67b-96d459f8a573"
      },
      "source": [
        "stacked_bar = covid_mfg_df.groupby(['location', 'vaccine'])['total_vaccinations'].sum().unstack().fillna(0)\n",
        "stacked_bar = stacked_bar.reindex(index=country_sorted.index).head(10)\n",
        "SBChart=stacked_bar.plot(kind='bar', rot=45, stacked=True)\n",
        "plt.title('Bottom 10 Countries By Vaccination Counts')\n",
        "plt.rcParams[\"figure.figsize\"] = (8, 6)"
      ],
      "execution_count": null,
      "outputs": [
        {
          "output_type": "display_data",
          "data": {
            "image/png": "[encoded data removed]",
            "text/plain": [
              "<Figure size 576x432 with 1 Axes>"
            ]
          },
          "metadata": {
            "needs_background": "light"
          }
        }
      ]
    },
    {
      "cell_type": "markdown",
      "metadata": {
        "id": "ZVtFKjgbchdo"
      },
      "source": [
        "These stacked bar charts show the 10 most vaccinated countries and the 10 least vaccinated countries.  Because of space constraints, only 20 countries were shown.  The charts show that the United States is overwhelmingly the most vaccinated country with Germany being the second most vaccinated country.  It also shows that Liechtenstein is the least vaccinated country.  From eyeballing, Pfizer appears to be the most used vaccine in the United States.  It also appears to be most used vaccine across the world.  The charts also illustrate the vaccines that are used by each country.  It also can be used to determine the demand of their vaccine across the globe."
      ]
    },
    {
      "cell_type": "code",
      "metadata": {
        "colab": {
          "base_uri": "https://localhost:8080/",
          "height": 1000
        },
        "id": "Mup-CaUYxWAG",
        "outputId": "12a8dfa8-fe6c-429a-ad56-f6018ff3e20f"
      },
      "source": [
        "vaccinated_by_countries=covid_mfg_df.groupby(\"location\")['total_vaccinations'].sum()\n",
        "maximum_vaccinated_countries = vaccinated_by_countries.sort_values(ascending=False)\n",
        "country_df=pd.DataFrame({\"total_vaccinations\":maximum_vaccinated_countries})\n",
        "country_df"
      ],
      "execution_count": null,
      "outputs": [
        {
          "output_type": "execute_result",
          "data": {
            "text/html": [
              "<div>\n",
              "<style scoped>\n",
              "    .dataframe tbody tr th:only-of-type {\n",
              "        vertical-align: middle;\n",
              "    }\n",
              "\n",
              "    .dataframe tbody tr th {\n",
              "        vertical-align: top;\n",
              "    }\n",
              "\n",
              "    .dataframe thead th {\n",
              "        text-align: right;\n",
              "    }\n",
              "</style>\n",
              "<table border=\"1\" class=\"dataframe\">\n",
              "  <thead>\n",
              "    <tr style=\"text-align: right;\">\n",
              "      <th></th>\n",
              "      <th>total_vaccinations</th>\n",
              "    </tr>\n",
              "    <tr>\n",
              "      <th>location</th>\n",
              "      <th></th>\n",
              "    </tr>\n",
              "  </thead>\n",
              "  <tbody>\n",
              "    <tr>\n",
              "      <th>United States</th>\n",
              "      <td>38391688819</td>\n",
              "    </tr>\n",
              "    <tr>\n",
              "      <th>Germany</th>\n",
              "      <td>6810620805</td>\n",
              "    </tr>\n",
              "    <tr>\n",
              "      <th>France</th>\n",
              "      <td>5013297208</td>\n",
              "    </tr>\n",
              "    <tr>\n",
              "      <th>Italy</th>\n",
              "      <td>4851996640</td>\n",
              "    </tr>\n",
              "    <tr>\n",
              "      <th>Japan</th>\n",
              "      <td>3325052747</td>\n",
              "    </tr>\n",
              "    <tr>\n",
              "      <th>Chile</th>\n",
              "      <td>2500896215</td>\n",
              "    </tr>\n",
              "    <tr>\n",
              "      <th>Romania</th>\n",
              "      <td>962082411</td>\n",
              "    </tr>\n",
              "    <tr>\n",
              "      <th>Czechia</th>\n",
              "      <td>755958711</td>\n",
              "    </tr>\n",
              "    <tr>\n",
              "      <th>Switzerland</th>\n",
              "      <td>672672016</td>\n",
              "    </tr>\n",
              "    <tr>\n",
              "      <th>Spain</th>\n",
              "      <td>592639936</td>\n",
              "    </tr>\n",
              "    <tr>\n",
              "      <th>Poland</th>\n",
              "      <td>411130535</td>\n",
              "    </tr>\n",
              "    <tr>\n",
              "      <th>Uruguay</th>\n",
              "      <td>358969359</td>\n",
              "    </tr>\n",
              "    <tr>\n",
              "      <th>Lithuania</th>\n",
              "      <td>218214402</td>\n",
              "    </tr>\n",
              "    <tr>\n",
              "      <th>Netherlands</th>\n",
              "      <td>193441706</td>\n",
              "    </tr>\n",
              "    <tr>\n",
              "      <th>Hungary</th>\n",
              "      <td>154127265</td>\n",
              "    </tr>\n",
              "    <tr>\n",
              "      <th>Belgium</th>\n",
              "      <td>147512882</td>\n",
              "    </tr>\n",
              "    <tr>\n",
              "      <th>Portugal</th>\n",
              "      <td>125819407</td>\n",
              "    </tr>\n",
              "    <tr>\n",
              "      <th>Sweden</th>\n",
              "      <td>117944740</td>\n",
              "    </tr>\n",
              "    <tr>\n",
              "      <th>Austria</th>\n",
              "      <td>108614659</td>\n",
              "    </tr>\n",
              "    <tr>\n",
              "      <th>Latvia</th>\n",
              "      <td>98648200</td>\n",
              "    </tr>\n",
              "    <tr>\n",
              "      <th>Denmark</th>\n",
              "      <td>68006165</td>\n",
              "    </tr>\n",
              "    <tr>\n",
              "      <th>Finland</th>\n",
              "      <td>62563497</td>\n",
              "    </tr>\n",
              "    <tr>\n",
              "      <th>Ireland</th>\n",
              "      <td>60894762</td>\n",
              "    </tr>\n",
              "    <tr>\n",
              "      <th>Slovakia</th>\n",
              "      <td>51863458</td>\n",
              "    </tr>\n",
              "    <tr>\n",
              "      <th>Croatia</th>\n",
              "      <td>35678037</td>\n",
              "    </tr>\n",
              "    <tr>\n",
              "      <th>Iceland</th>\n",
              "      <td>35426258</td>\n",
              "    </tr>\n",
              "    <tr>\n",
              "      <th>Bulgaria</th>\n",
              "      <td>25842129</td>\n",
              "    </tr>\n",
              "    <tr>\n",
              "      <th>Slovenia</th>\n",
              "      <td>19471357</td>\n",
              "    </tr>\n",
              "    <tr>\n",
              "      <th>Estonia</th>\n",
              "      <td>14465601</td>\n",
              "    </tr>\n",
              "    <tr>\n",
              "      <th>Cyprus</th>\n",
              "      <td>11204138</td>\n",
              "    </tr>\n",
              "    <tr>\n",
              "      <th>Malta</th>\n",
              "      <td>9225692</td>\n",
              "    </tr>\n",
              "    <tr>\n",
              "      <th>Luxembourg</th>\n",
              "      <td>6973880</td>\n",
              "    </tr>\n",
              "    <tr>\n",
              "      <th>Liechtenstein</th>\n",
              "      <td>414836</td>\n",
              "    </tr>\n",
              "  </tbody>\n",
              "</table>\n",
              "</div>"
            ],
            "text/plain": [
              "               total_vaccinations\n",
              "location                         \n",
              "United States         38391688819\n",
              "Germany                6810620805\n",
              "France                 5013297208\n",
              "Italy                  4851996640\n",
              "Japan                  3325052747\n",
              "Chile                  2500896215\n",
              "Romania                 962082411\n",
              "Czechia                 755958711\n",
              "Switzerland             672672016\n",
              "Spain                   592639936\n",
              "Poland                  411130535\n",
              "Uruguay                 358969359\n",
              "Lithuania               218214402\n",
              "Netherlands             193441706\n",
              "Hungary                 154127265\n",
              "Belgium                 147512882\n",
              "Portugal                125819407\n",
              "Sweden                  117944740\n",
              "Austria                 108614659\n",
              "Latvia                   98648200\n",
              "Denmark                  68006165\n",
              "Finland                  62563497\n",
              "Ireland                  60894762\n",
              "Slovakia                 51863458\n",
              "Croatia                  35678037\n",
              "Iceland                  35426258\n",
              "Bulgaria                 25842129\n",
              "Slovenia                 19471357\n",
              "Estonia                  14465601\n",
              "Cyprus                   11204138\n",
              "Malta                     9225692\n",
              "Luxembourg                6973880\n",
              "Liechtenstein              414836"
            ]
          },
          "metadata": {
            "tags": []
          },
          "execution_count": 12
        }
      ]
    },
    {
      "cell_type": "markdown",
      "metadata": {
        "id": "Au_vYsjskx-z"
      },
      "source": [
        "The table above shows the most vaccinated countries in descending order based on total vaccinations.  The table lists 30 countries out of a total of 195 countries around the world; however it does not include very populated countries such as China and Russia.  This confirms that the United States and Germany are the most vaccinated countries.  This would be very useful for government officials."
      ]
    },
    {
      "cell_type": "code",
      "metadata": {
        "id": "N9vEWwBEy3ul",
        "colab": {
          "base_uri": "https://localhost:8080/"
        },
        "outputId": "42f6ca4e-382f-4747-f20f-751f4aadee2a"
      },
      "source": [
        "France=covid_mfg_df[(covid_mfg_df['location']=='France')]\n",
        "Italy=covid_mfg_df[(covid_mfg_df['location']=='Italy')]\n",
        "ttest_ind(France['total_vaccinations'], Italy['total_vaccinations'])"
      ],
      "execution_count": null,
      "outputs": [
        {
          "output_type": "execute_result",
          "data": {
            "text/plain": [
              "Ttest_indResult(statistic=0.8478575172788478, pvalue=0.39666287669112277)"
            ]
          },
          "metadata": {
            "tags": []
          },
          "execution_count": 39
        }
      ]
    },
    {
      "cell_type": "markdown",
      "metadata": {
        "id": "be8Gdqk_l1xi"
      },
      "source": [
        "Since the top two most vaccinated countries (United States and Germany) have vaccination levels much higher than the rest of the world, only France and Italy's total vaccination levels were compared since their vaccination levels were similar.  A t-test was run on the third and fourth most vaccinated countries (France and Italy). Because the p-value is greater than 0.05, the null hypothesis is true and there is no statistical difference between the vaccination levels of the two countries."
      ]
    },
    {
      "cell_type": "code",
      "metadata": {
        "colab": {
          "base_uri": "https://localhost:8080/"
        },
        "id": "2yIQcZyNzjo7",
        "outputId": "3932563f-18b6-4792-ebf1-6e242594321e"
      },
      "source": [
        "vaccinated_by_vaccine=covid_mfg_df.groupby(\"vaccine\")['total_vaccinations'].sum()\n",
        "most_popular_vaccines = vaccinated_by_vaccine.sort_values(ascending=False)\n",
        "most_popular_vaccines"
      ],
      "execution_count": null,
      "outputs": [
        {
          "output_type": "execute_result",
          "data": {
            "text/plain": [
              "vaccine\n",
              "Pfizer/BioNTech       40231019178\n",
              "Moderna               18719024193\n",
              "Oxford/AstraZeneca     3324206459\n",
              "Sinovac                2286980429\n",
              "Johnson&Johnson        1571833319\n",
              "Sinopharm/Beijing        32570689\n",
              "Sputnik V                27759749\n",
              "CanSino                  19964457\n",
              "Name: total_vaccinations, dtype: int64"
            ]
          },
          "metadata": {
            "tags": []
          },
          "execution_count": 42
        }
      ]
    },
    {
      "cell_type": "markdown",
      "metadata": {
        "id": "hSr2zMrToGal"
      },
      "source": [
        "The table above shows how frequently each vaccine is being used in descending order.  This confirms that Pfizer and Moderna are the two most popular and widely used vaccines worldwide.  This table gives an even better idea as to which vaccines are being used the most."
      ]
    },
    {
      "cell_type": "code",
      "metadata": {
        "id": "Ng1aMKtPpzE7",
        "colab": {
          "base_uri": "https://localhost:8080/"
        },
        "outputId": "54fc5515-a8dd-4f9d-c0f7-9d5b1ce2f46c"
      },
      "source": [
        "Pfizer=covid_mfg_df[(covid_mfg_df['vaccine']=='Pfizer/BioNTech')]\n",
        "Moderna=covid_mfg_df[(covid_mfg_df['vaccine']=='Moderna')]\n",
        "ttest_ind(Pfizer['total_vaccinations'], Moderna['total_vaccinations'])"
      ],
      "execution_count": null,
      "outputs": [
        {
          "output_type": "execute_result",
          "data": {
            "text/plain": [
              "Ttest_indResult(statistic=7.064844142797141, pvalue=1.7927079917144561e-12)"
            ]
          },
          "metadata": {
            "tags": []
          },
          "execution_count": 43
        }
      ]
    },
    {
      "cell_type": "markdown",
      "metadata": {
        "id": "Iz1oXwBsqbG9"
      },
      "source": [
        "A t-test was run on the 2 most popular and widely used vaccines: Pfizer and Moderna.  Because the p-value was less than 0.05, the null hypothesis will be rejected and there is a statistical difference between the vaccination usage of the two most widely used vaccines."
      ]
    },
    {
      "cell_type": "markdown",
      "metadata": {
        "id": "CZjCJfudgPD6"
      },
      "source": [
        "The purpose of this study is to analyze each of the following: how much of each vaccine is used by each country, which vaccines are most widely used around the world, and which countries have the highest levels of vaccinations per day.  \n",
        "\n",
        "The first purpose of this study is to determine how much of each vaccine is used by each country.  The amount of vaccines used by various countries was highlighted by stacked bar charts of the ten most vaccinated countries and the ten least vaccinated countries.  Because of space constraints, only 20 countries were highlighted.  Based on eye-balling, the United States and Germany are the two most vaccinated countries while Liechtenstein is the least vaccinated country.  It also appears that Pfizer and Moderna are the two most widely used vaccines in the United States, while most countries have high proportions of Pfizer usage.\n",
        "\n",
        "The second purpose of this study is to determine which vaccines are most popular in order to help vaccine manufacturers determine the demand of their vaccines and to help government officials get a good understanding of which vaccines are most widely used.  These are illustrated by a showing the most popular vaccines sorted in descending order according to the sum of total vaccinations.  Pfizer and Moderna are the two most widely used vaccines in the world.  A t-test was run comparing the sum of total vaccinations for the top two most widely used vaccines (Pfizer and Moderna) and there was a statistical difference. \n",
        "\n",
        "The third and final purpose of the study was to determine which countries are the most vaccinated and which are least vaccinated.  The stacked bar charts help visualize this too.  To further highlight the most vaccinated countries and the least vaccinated countries, a table showing the sum of total vaccinations by country in descending order was displayed directly below the stacked bar charts.  As stated above, The United States and Germany are the two most vaccinated countries.  A t-test was run on the third and fourth most vaccinated countries (France and Italy), which showed that there is no statistical difference between those vaccination levels.  \n",
        "\n",
        "Those 3 studies and all the visualizations help government officials better understand which countries are most vaccinated and which countries are least vaccinated.  It also allows government officials better track the progress of their own country's vaccination rate."
      ]
    },
    {
      "cell_type": "code",
      "metadata": {
        "id": "78rFj2DUug8H"
      },
      "source": [
        ""
      ],
      "execution_count": null,
      "outputs": []
    }
  ]
}
