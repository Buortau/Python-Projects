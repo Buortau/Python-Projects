{
 "cells": [
  {
   "cell_type": "code",
   "execution_count": 3,
   "id": "c5e27e2e-3352-427c-89fc-9bfb218487f4",
   "metadata": {
    "scrolled": true
   },
   "outputs": [
    {
     "name": "stdin",
     "output_type": "stream",
     "text": [
      "Enter the date in form YYYY-MM-DD:  2025-07-30\n",
      "Enter category of expense Food/travel Dental\n",
      "Enter amount:  1200\n",
      "Enter description  Gum Grafting\n"
     ]
    },
    {
     "name": "stdout",
     "output_type": "stream",
     "text": [
      "Expenses added successfully.\n"
     ]
    }
   ],
   "source": [
    "def add_expense(list_expenses):\n",
    "    date = input(\"Enter the date in form YYYY-MM-DD: \")\n",
    "    category = input(\"Enter category of expense Food/travel\")\n",
    "    #ensure valid amount input\n",
    "    try:\n",
    "        amount=float(input(\"Enter amount: \"))\n",
    "    except ValueError:\n",
    "        print(\"Invalid amount. Please enter a number.\")\n",
    "        return\n",
    "    description = input (\"Enter description \")\n",
    "    #append expense to the list\n",
    "    list_expenses.append ({\"date\": date,\n",
    "                        \"category\": category,\n",
    "                        \"amount\": amount,\n",
    "                        \"description\": description})\n",
    "    print(\"Expenses added successfully.\")\n",
    "\n",
    "list_expenses=[]\n",
    "add_expense(list_expenses)"
   ]
  },
  {
   "cell_type": "code",
   "execution_count": 5,
   "id": "8d3c08c4-d16e-4c11-9a71-b02c4bc46975",
   "metadata": {
    "scrolled": true
   },
   "outputs": [
    {
     "name": "stdout",
     "output_type": "stream",
     "text": [
      "\n",
      "Expenses Recorded:\n",
      "date: 2025-07-30 category: Dental amount: 1200.0 description:Gum Grafting\n",
      "[{'date': '2025-07-30', 'category': 'Dental', 'amount': 1200.0, 'description': 'Gum Grafting'}]\n"
     ]
    }
   ],
   "source": [
    "def view_expenses(list_expenses):\n",
    "    # if list is empty, validate data\n",
    "    if not list_expenses:\n",
    "        print(\"No expense recorded\")\n",
    "    else:\n",
    "        print (\"\\nExpenses Recorded:\")\n",
    "        for expense in list_expenses:\n",
    "            print(f\"date: {expense.get('date','N/A')}\",\n",
    "                f\"category: {expense.get('category', 'N/A')}\",\n",
    "                f\"amount: {expense.get('amount','N/A')}\",\n",
    "                f\"description:{expense.get('description', 'N/A')}\")\n",
    "        print(list_expenses)\n",
    "view_expenses(list_expenses)"
   ]
  },
  {
   "cell_type": "code",
   "execution_count": 7,
   "id": "881dfb5f-46f7-4d01-a5aa-b09f8ef99ed4",
   "metadata": {},
   "outputs": [
    {
     "name": "stdin",
     "output_type": "stream",
     "text": [
      "Enter budget for the month:  2000\n"
     ]
    }
   ],
   "source": [
    "def set_budget():\n",
    "    while True:\n",
    "        try:\n",
    "            budget = float(input(\"Enter budget for the month: \"))\n",
    "            if budget < 0:\n",
    "                print(\"Budget cannot be negative.  Please enter a valid aount.\")\n",
    "            else: \n",
    "                return budget\n",
    "        except ValueError:\n",
    "            print (\"Invalid input. Please enter a numerical value.\")\n",
    "budget=set_budget()"
   ]
  },
  {
   "cell_type": "code",
   "execution_count": 9,
   "id": "be13caad-577f-481f-9dcb-00ca7b984b20",
   "metadata": {},
   "outputs": [
    {
     "name": "stdout",
     "output_type": "stream",
     "text": [
      "Balance remaining for the month: 800.0 units.\n"
     ]
    },
    {
     "data": {
      "text/plain": [
       "800.0"
      ]
     },
     "execution_count": 9,
     "metadata": {},
     "output_type": "execute_result"
    }
   ],
   "source": [
    "def track_budget (budget, list_expenses):\n",
    "#find total amount from the list of expenses\n",
    "    try:\n",
    "        if not isinstance(list_expenses,list):\n",
    "            print(\"Invalid values in expense dictionary. Ensure all values are numbers.\")\n",
    "            return None\n",
    "        total = sum(float(expense[\"amount\"]) for expense in list_expenses if \"amount\" in expense)\n",
    "        balance = budget - total\n",
    "        if balance < 0:\n",
    "            print(f\"You have exceeded your budget by {-balance:} units.\")\n",
    "        else:\n",
    "            print (f\"Balance remaining for the month: {balance:} units.\")\n",
    "        return balance\n",
    "    except ValueError:\n",
    "        print(\"Error: Ensure all amounts are valid numbers\")\n",
    "        return None\n",
    "#print some message\n",
    "track_budget(budget, list_expenses)"
   ]
  },
  {
   "cell_type": "code",
   "execution_count": 11,
   "id": "d0bc1b9b-4eca-42a6-b700-987f66921aba",
   "metadata": {},
   "outputs": [],
   "source": [
    "import csv\n",
    "import os\n",
    "def save_expenses(list_expenses, filename='expense.csv'):\n",
    "    file_exists = os.path.exists(filename)\n",
    "    with open(filename, 'a', newline='') as csvfile:\n",
    "        writer = csv.DictWriter(csvfile, fieldnames=[\"date\", \"category\", \"amount\", \"description\"])\n",
    "        if not file_exists:\n",
    "            writer.writeheader()\n",
    "            writer.writerows(list_expenses)\n",
    "#how to store a python dictionary in a csv file\n",
    "save_expenses(list_expenses, filename='expense.csv')"
   ]
  },
  {
   "cell_type": "code",
   "execution_count": 13,
   "id": "fb1fbcdb-5d73-450f-aeb8-da38e921b93a",
   "metadata": {},
   "outputs": [
    {
     "name": "stdout",
     "output_type": "stream",
     "text": [
      "[{'date': '2025-07-30', 'category': 'Dental', 'amount': 1200.0, 'description': 'Gum Grafting'}, {'date': '2025-04-21', 'category': 'Dental', 'amount': '95.0', 'description': 'Perio Maintenance'}]\n"
     ]
    }
   ],
   "source": [
    "# function to read from a file into a dictionary\n",
    "def read_expenses(filename='expense.csv'):\n",
    "    with open (filename, 'r') as csvfile:\n",
    "        for line in csv.DictReader(csvfile):\n",
    "            list_expenses.append(line)\n",
    "    print(list_expenses)\n",
    "read_expenses('expense.csv')"
   ]
  },
  {
   "cell_type": "code",
   "execution_count": 15,
   "id": "8d4e665c-732b-47c2-b118-e2e8839e2376",
   "metadata": {},
   "outputs": [
    {
     "name": "stdout",
     "output_type": "stream",
     "text": [
      "\n",
      "Menu:\n",
      "1: Add expense\n",
      "2: view expense\n",
      "3: Track Budget\n",
      "4: Save Expenses\n",
      "5: Exit\n"
     ]
    },
    {
     "name": "stdin",
     "output_type": "stream",
     "text": [
      "Enter your choice: 1-5  1\n",
      "Enter the date in form YYYY-MM-DD:  2025-03-14\n",
      "Enter category of expense Food/travel Food\n",
      "Enter amount:  14\n",
      "Enter description  Pie\n"
     ]
    },
    {
     "name": "stdout",
     "output_type": "stream",
     "text": [
      "Expenses added successfully.\n",
      "\n",
      "Menu:\n",
      "1: Add expense\n",
      "2: view expense\n",
      "3: Track Budget\n",
      "4: Save Expenses\n",
      "5: Exit\n"
     ]
    },
    {
     "name": "stdin",
     "output_type": "stream",
     "text": [
      "Enter your choice: 1-5  2\n"
     ]
    },
    {
     "name": "stdout",
     "output_type": "stream",
     "text": [
      "[{'date': '2025-07-30', 'category': 'Dental', 'amount': 1200.0, 'description': 'Gum Grafting'}, {'date': '2025-04-21', 'category': 'Dental', 'amount': '95.0', 'description': 'Perio Maintenance'}, {'date': '2025-03-14', 'category': 'Food', 'amount': 14.0, 'description': 'Pie'}, {'date': '2025-04-21', 'category': 'Dental', 'amount': '95.0', 'description': 'Perio Maintenance'}]\n",
      "\n",
      "Expenses Recorded:\n",
      "date: 2025-07-30 category: Dental amount: 1200.0 description:Gum Grafting\n",
      "date: 2025-04-21 category: Dental amount: 95.0 description:Perio Maintenance\n",
      "date: 2025-03-14 category: Food amount: 14.0 description:Pie\n",
      "date: 2025-04-21 category: Dental amount: 95.0 description:Perio Maintenance\n",
      "[{'date': '2025-07-30', 'category': 'Dental', 'amount': 1200.0, 'description': 'Gum Grafting'}, {'date': '2025-04-21', 'category': 'Dental', 'amount': '95.0', 'description': 'Perio Maintenance'}, {'date': '2025-03-14', 'category': 'Food', 'amount': 14.0, 'description': 'Pie'}, {'date': '2025-04-21', 'category': 'Dental', 'amount': '95.0', 'description': 'Perio Maintenance'}]\n",
      "\n",
      "Menu:\n",
      "1: Add expense\n",
      "2: view expense\n",
      "3: Track Budget\n",
      "4: Save Expenses\n",
      "5: Exit\n"
     ]
    },
    {
     "name": "stdin",
     "output_type": "stream",
     "text": [
      "Enter your choice: 1-5  4\n"
     ]
    },
    {
     "name": "stdout",
     "output_type": "stream",
     "text": [
      "File Saved\n",
      "\n",
      "Menu:\n",
      "1: Add expense\n",
      "2: view expense\n",
      "3: Track Budget\n",
      "4: Save Expenses\n",
      "5: Exit\n"
     ]
    },
    {
     "name": "stdin",
     "output_type": "stream",
     "text": [
      "Enter your choice: 1-5  5\n"
     ]
    },
    {
     "name": "stdout",
     "output_type": "stream",
     "text": [
      "Exiting the program\n"
     ]
    }
   ],
   "source": [
    "def menu():\n",
    "    while True:\n",
    "        print (\"\\nMenu:\")\n",
    "        print (\"1: Add expense\")\n",
    "        print (\"2: view expense\")\n",
    "        print (\"3: Track Budget\")\n",
    "        print (\"4: Save Expenses\")\n",
    "        print (\"5: Exit\")\n",
    "        choice= input (\"Enter your choice: 1-5 \")\n",
    "        if choice =='1':\n",
    "            add_expense(list_expenses)\n",
    "        elif choice == '2':\n",
    "            read_expenses('expense.csv')\n",
    "            view_expenses(list_expenses)\n",
    "        elif choice == '3':\n",
    "            budget=set_budget()\n",
    "            track_budget(budget, list_expenses)\n",
    "        elif choice == '4':\n",
    "            save_expenses(list_expenses)\n",
    "            print(\"File Saved\")\n",
    "        elif choice == '5':\n",
    "            save_expenses(list_expenses)\n",
    "            print(\"Exiting the program\")\n",
    "            break\n",
    "        else:\n",
    "            print(\"Invalid choice; Please enter choices 1-5.\")\n",
    "menu()"
   ]
  },
  {
   "cell_type": "code",
   "execution_count": null,
   "id": "6a830eb8-6c73-4bf4-b50a-00cae242f195",
   "metadata": {},
   "outputs": [],
   "source": []
  }
 ],
 "metadata": {
  "kernelspec": {
   "display_name": "Python [conda env:base] *",
   "language": "python",
   "name": "conda-base-py"
  },
  "language_info": {
   "codemirror_mode": {
    "name": "ipython",
    "version": 3
   },
   "file_extension": ".py",
   "mimetype": "text/x-python",
   "name": "python",
   "nbconvert_exporter": "python",
   "pygments_lexer": "ipython3",
   "version": "3.12.7"
  }
 },
 "nbformat": 4,
 "nbformat_minor": 5
}
